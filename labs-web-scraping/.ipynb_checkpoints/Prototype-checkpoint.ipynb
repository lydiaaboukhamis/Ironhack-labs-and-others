{
 "cells": [
  {
   "cell_type": "markdown",
   "id": "d3d98e78",
   "metadata": {},
   "source": [
    "# WebScraping III: revenge of the prototype\n",
    "    \n",
    "Following the prototype discussed in class, build an MVP, where the client will input a song, and the app will check if that song is in top 100 list. \n",
    "If it is, you will recommend another song from billboard 100, if it isn't, you will recommend a random song (for now) from another website, source of music boards."
   ]
  },
  {
   "cell_type": "code",
   "execution_count": 1,
   "id": "f8ff1081",
   "metadata": {},
   "outputs": [],
   "source": [
    "# import libraries\n",
    "from bs4 import BeautifulSoup\n",
    "import requests\n",
    "import pandas as pd"
   ]
  },
  {
   "cell_type": "code",
   "execution_count": 2,
   "id": "025822bc",
   "metadata": {},
   "outputs": [],
   "source": [
    "billboard100 = pd.read_csv('billboard100.csv')"
   ]
  },
  {
   "cell_type": "code",
   "execution_count": 4,
   "id": "764b48af",
   "metadata": {},
   "outputs": [],
   "source": [
    "wikipedia100 = pd.read_csv('wikipedia100.csv')"
   ]
  },
  {
   "cell_type": "code",
   "execution_count": 5,
   "id": "53974d1b",
   "metadata": {},
   "outputs": [],
   "source": [
    "def song_recommender(song_name):\n",
    "    if song_name in \"billboard100\":\n",
    "        return \"another song from billboard100\"\n",
    "    else:\n",
    "        return \"a song from somewhere else\""
   ]
  },
  {
   "cell_type": "code",
   "execution_count": null,
   "id": "10454519",
   "metadata": {},
   "outputs": [],
   "source": [
    "# ask for song\n",
    "song_name = input('Write down a song and artist:')\n",
    "song_recommender(song_name)"
   ]
  },
  {
   "cell_type": "code",
   "execution_count": null,
   "id": "6b680160",
   "metadata": {},
   "outputs": [],
   "source": [
    "lab 1 - billboard100 list of songs\n",
    "lab 2 - a second list of songs -> get from a website where you'll need to use multiple pages\n"
   ]
  }
 ],
 "metadata": {
  "kernelspec": {
   "display_name": "Python 3 (ipykernel)",
   "language": "python",
   "name": "python3"
  },
  "language_info": {
   "codemirror_mode": {
    "name": "ipython",
    "version": 3
   },
   "file_extension": ".py",
   "mimetype": "text/x-python",
   "name": "python",
   "nbconvert_exporter": "python",
   "pygments_lexer": "ipython3",
   "version": "3.9.7"
  }
 },
 "nbformat": 4,
 "nbformat_minor": 5
}
