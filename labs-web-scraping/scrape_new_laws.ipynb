{
 "cells": [
  {
   "cell_type": "markdown",
   "id": "c264128c",
   "metadata": {},
   "source": [
    "# New Laws"
   ]
  },
  {
   "cell_type": "code",
   "execution_count": null,
   "id": "7067d540",
   "metadata": {},
   "outputs": [],
   "source": [
    "law_table_star=OfficeLawSoup.find_all('div', attrs={'class': 'usctitlechanged'})"
   ]
  },
  {
   "cell_type": "code",
   "execution_count": null,
   "id": "371d7b79",
   "metadata": {},
   "outputs": [],
   "source": [
    "law_table_star[0].text.strip()"
   ]
  },
  {
   "cell_type": "code",
   "execution_count": null,
   "id": "5d24c268",
   "metadata": {},
   "outputs": [],
   "source": [
    "Thendoing a for loop through the rows\n",
    "newLaws=[]\n",
    "for i in law_table_star:\n",
    "    law=law_table_star[i].text.strip()\n",
    "    newLaws.append(law)\n",
    "newLaws"
   ]
  }
 ],
 "metadata": {
  "kernelspec": {
   "display_name": "Python 3 (ipykernel)",
   "language": "python",
   "name": "python3"
  },
  "language_info": {
   "codemirror_mode": {
    "name": "ipython",
    "version": 3
   },
   "file_extension": ".py",
   "mimetype": "text/x-python",
   "name": "python",
   "nbconvert_exporter": "python",
   "pygments_lexer": "ipython3",
   "version": "3.9.7"
  }
 },
 "nbformat": 4,
 "nbformat_minor": 5
}
